{
  "nbformat": 4,
  "nbformat_minor": 0,
  "metadata": {
    "colab": {
      "provenance": []
    },
    "kernelspec": {
      "name": "python3",
      "display_name": "Python 3"
    },
    "language_info": {
      "name": "python"
    }
  },
  "cells": [
    {
      "cell_type": "code",
      "execution_count": 12,
      "metadata": {
        "colab": {
          "base_uri": "https://localhost:8080/"
        },
        "id": "mAxiKJ0fn03P",
        "outputId": "943ad806-9315-48aa-f4d4-e7d3e1ca3001"
      },
      "outputs": [
        {
          "output_type": "stream",
          "name": "stdout",
          "text": [
            "Requirement already satisfied: pip in /usr/local/lib/python3.10/dist-packages (23.3.1)\n",
            "\u001b[33mWARNING: Running pip as the 'root' user can result in broken permissions and conflicting behaviour with the system package manager. It is recommended to use a virtual environment instead: https://pip.pypa.io/warnings/venv\u001b[0m\u001b[33m\n",
            "\u001b[0mRequirement already satisfied: uvicorn in /usr/local/lib/python3.10/dist-packages (0.24.0.post1)\n",
            "Requirement already satisfied: click>=7.0 in /usr/local/lib/python3.10/dist-packages (from uvicorn) (8.1.7)\n",
            "Requirement already satisfied: h11>=0.8 in /usr/local/lib/python3.10/dist-packages (from uvicorn) (0.14.0)\n",
            "Requirement already satisfied: typing-extensions>=4.0 in /usr/local/lib/python3.10/dist-packages (from uvicorn) (4.8.0)\n",
            "\u001b[33mWARNING: Running pip as the 'root' user can result in broken permissions and conflicting behaviour with the system package manager. It is recommended to use a virtual environment instead: https://pip.pypa.io/warnings/venv\u001b[0m\u001b[33m\n",
            "\u001b[0mRequirement already satisfied: fastapi in /usr/local/lib/python3.10/dist-packages (0.104.1)\n",
            "Requirement already satisfied: anyio<4.0.0,>=3.7.1 in /usr/local/lib/python3.10/dist-packages (from fastapi) (3.7.1)\n",
            "Requirement already satisfied: pydantic!=1.8,!=1.8.1,!=2.0.0,!=2.0.1,!=2.1.0,<3.0.0,>=1.7.4 in /usr/local/lib/python3.10/dist-packages (from fastapi) (1.10.13)\n",
            "Requirement already satisfied: starlette<0.28.0,>=0.27.0 in /usr/local/lib/python3.10/dist-packages (from fastapi) (0.27.0)\n",
            "Requirement already satisfied: typing-extensions>=4.8.0 in /usr/local/lib/python3.10/dist-packages (from fastapi) (4.8.0)\n",
            "Requirement already satisfied: idna>=2.8 in /usr/local/lib/python3.10/dist-packages (from anyio<4.0.0,>=3.7.1->fastapi) (3.4)\n",
            "Requirement already satisfied: sniffio>=1.1 in /usr/local/lib/python3.10/dist-packages (from anyio<4.0.0,>=3.7.1->fastapi) (1.3.0)\n",
            "Requirement already satisfied: exceptiongroup in /usr/local/lib/python3.10/dist-packages (from anyio<4.0.0,>=3.7.1->fastapi) (1.1.3)\n",
            "\u001b[33mWARNING: Running pip as the 'root' user can result in broken permissions and conflicting behaviour with the system package manager. It is recommended to use a virtual environment instead: https://pip.pypa.io/warnings/venv\u001b[0m\u001b[33m\n",
            "\u001b[0mRequirement already satisfied: pyngrok in /usr/local/lib/python3.10/dist-packages (7.0.1)\n",
            "Requirement already satisfied: PyYAML in /usr/local/lib/python3.10/dist-packages (from pyngrok) (6.0.1)\n",
            "\u001b[33mWARNING: Running pip as the 'root' user can result in broken permissions and conflicting behaviour with the system package manager. It is recommended to use a virtual environment instead: https://pip.pypa.io/warnings/venv\u001b[0m\u001b[33m\n",
            "\u001b[0m"
          ]
        }
      ],
      "source": [
        "!pip install --upgrade pip\n",
        "!pip install uvicorn\n",
        "!pip install fastapi\n",
        "!pip install pyngrok"
      ]
    },
    {
      "cell_type": "code",
      "source": [
        "!apt-get update\n",
        "!apt-get install libgdal-dev -y\n",
        "!apt-get install python-gdal -y\n",
        "!apt-get install python-numpy python-scipy -y\n",
        "!pip install rioxarray\n",
        "!pip install rasterio\n",
        "!pip install geopandas\n",
        "!pip install geojson\n",
        "!pip install shapely"
      ],
      "metadata": {
        "colab": {
          "base_uri": "https://localhost:8080/"
        },
        "id": "7prv-FXLujAG",
        "outputId": "eec74313-2f2b-4ad2-8bfd-5a97c643ec5f"
      },
      "execution_count": 13,
      "outputs": [
        {
          "output_type": "stream",
          "name": "stdout",
          "text": [
            "\r0% [Working]\r            \rHit:1 http://security.ubuntu.com/ubuntu jammy-security InRelease\n",
            "\r0% [Waiting for headers] [Connected to cloud.r-project.org (52.85.151.54)] [Connecting to ppa.launch\r                                                                                                    \rHit:2 http://archive.ubuntu.com/ubuntu jammy InRelease\n",
            "\r                                                                                                    \rHit:3 http://archive.ubuntu.com/ubuntu jammy-updates InRelease\n",
            "\r                                                                                                    \rHit:4 http://archive.ubuntu.com/ubuntu jammy-backports InRelease\n",
            "\r0% [Waiting for headers] [Connecting to ppa.launchpadcontent.net (185.125.190.80)] [Waiting for head\r                                                                                                    \rHit:5 https://cloud.r-project.org/bin/linux/ubuntu jammy-cran40/ InRelease\n",
            "Hit:6 https://developer.download.nvidia.com/compute/cuda/repos/ubuntu2204/x86_64  InRelease\n",
            "Hit:7 https://ppa.launchpadcontent.net/c2d4u.team/c2d4u4.0+/ubuntu jammy InRelease\n",
            "Hit:8 https://ppa.launchpadcontent.net/deadsnakes/ppa/ubuntu jammy InRelease\n",
            "Hit:9 https://ppa.launchpadcontent.net/graphics-drivers/ppa/ubuntu jammy InRelease\n",
            "Hit:10 https://ppa.launchpadcontent.net/ubuntugis/ppa/ubuntu jammy InRelease\n",
            "Reading package lists... Done\n",
            "Reading package lists... Done\n",
            "Building dependency tree... Done\n",
            "Reading state information... Done\n",
            "libgdal-dev is already the newest version (3.4.3+dfsg-1~jammy0).\n",
            "0 upgraded, 0 newly installed, 0 to remove and 38 not upgraded.\n",
            "Reading package lists... Done\n",
            "Building dependency tree... Done\n",
            "Reading state information... Done\n",
            "Package python-gdal is not available, but is referred to by another package.\n",
            "This may mean that the package is missing, has been obsoleted, or\n",
            "is only available from another source\n",
            "However the following packages replace it:\n",
            "  gdal-bin\n",
            "\n",
            "E: Package 'python-gdal' has no installation candidate\n",
            "Reading package lists... Done\n",
            "Building dependency tree... Done\n",
            "Reading state information... Done\n",
            "Package python-scipy is not available, but is referred to by another package.\n",
            "This may mean that the package is missing, has been obsoleted, or\n",
            "is only available from another source\n",
            "\n",
            "E: Unable to locate package python-numpy\n",
            "E: Package 'python-scipy' has no installation candidate\n",
            "Requirement already satisfied: rioxarray in /usr/local/lib/python3.10/dist-packages (0.15.0)\n",
            "Requirement already satisfied: packaging in /usr/local/lib/python3.10/dist-packages (from rioxarray) (23.2)\n",
            "Requirement already satisfied: rasterio>=1.2 in /usr/local/lib/python3.10/dist-packages (from rioxarray) (1.3.9)\n",
            "Requirement already satisfied: xarray>=0.17 in /usr/local/lib/python3.10/dist-packages (from rioxarray) (2023.7.0)\n",
            "Requirement already satisfied: pyproj>=2.2 in /usr/local/lib/python3.10/dist-packages (from rioxarray) (3.6.1)\n",
            "Requirement already satisfied: numpy>=1.21 in /usr/local/lib/python3.10/dist-packages (from rioxarray) (1.23.5)\n",
            "Requirement already satisfied: certifi in /usr/local/lib/python3.10/dist-packages (from pyproj>=2.2->rioxarray) (2023.7.22)\n",
            "Requirement already satisfied: affine in /usr/local/lib/python3.10/dist-packages (from rasterio>=1.2->rioxarray) (2.4.0)\n",
            "Requirement already satisfied: attrs in /usr/local/lib/python3.10/dist-packages (from rasterio>=1.2->rioxarray) (23.1.0)\n",
            "Requirement already satisfied: click>=4.0 in /usr/local/lib/python3.10/dist-packages (from rasterio>=1.2->rioxarray) (8.1.7)\n",
            "Requirement already satisfied: cligj>=0.5 in /usr/local/lib/python3.10/dist-packages (from rasterio>=1.2->rioxarray) (0.7.2)\n",
            "Requirement already satisfied: snuggs>=1.4.1 in /usr/local/lib/python3.10/dist-packages (from rasterio>=1.2->rioxarray) (1.4.7)\n",
            "Requirement already satisfied: click-plugins in /usr/local/lib/python3.10/dist-packages (from rasterio>=1.2->rioxarray) (1.1.1)\n",
            "Requirement already satisfied: setuptools in /usr/local/lib/python3.10/dist-packages (from rasterio>=1.2->rioxarray) (67.7.2)\n",
            "Requirement already satisfied: pandas>=1.4 in /usr/local/lib/python3.10/dist-packages (from xarray>=0.17->rioxarray) (1.5.3)\n",
            "Requirement already satisfied: python-dateutil>=2.8.1 in /usr/local/lib/python3.10/dist-packages (from pandas>=1.4->xarray>=0.17->rioxarray) (2.8.2)\n",
            "Requirement already satisfied: pytz>=2020.1 in /usr/local/lib/python3.10/dist-packages (from pandas>=1.4->xarray>=0.17->rioxarray) (2023.3.post1)\n",
            "Requirement already satisfied: pyparsing>=2.1.6 in /usr/local/lib/python3.10/dist-packages (from snuggs>=1.4.1->rasterio>=1.2->rioxarray) (3.1.1)\n",
            "Requirement already satisfied: six>=1.5 in /usr/local/lib/python3.10/dist-packages (from python-dateutil>=2.8.1->pandas>=1.4->xarray>=0.17->rioxarray) (1.16.0)\n",
            "\u001b[33mWARNING: Running pip as the 'root' user can result in broken permissions and conflicting behaviour with the system package manager. It is recommended to use a virtual environment instead: https://pip.pypa.io/warnings/venv\u001b[0m\u001b[33m\n",
            "\u001b[0mRequirement already satisfied: rasterio in /usr/local/lib/python3.10/dist-packages (1.3.9)\n",
            "Requirement already satisfied: affine in /usr/local/lib/python3.10/dist-packages (from rasterio) (2.4.0)\n",
            "Requirement already satisfied: attrs in /usr/local/lib/python3.10/dist-packages (from rasterio) (23.1.0)\n",
            "Requirement already satisfied: certifi in /usr/local/lib/python3.10/dist-packages (from rasterio) (2023.7.22)\n",
            "Requirement already satisfied: click>=4.0 in /usr/local/lib/python3.10/dist-packages (from rasterio) (8.1.7)\n",
            "Requirement already satisfied: cligj>=0.5 in /usr/local/lib/python3.10/dist-packages (from rasterio) (0.7.2)\n",
            "Requirement already satisfied: numpy in /usr/local/lib/python3.10/dist-packages (from rasterio) (1.23.5)\n",
            "Requirement already satisfied: snuggs>=1.4.1 in /usr/local/lib/python3.10/dist-packages (from rasterio) (1.4.7)\n",
            "Requirement already satisfied: click-plugins in /usr/local/lib/python3.10/dist-packages (from rasterio) (1.1.1)\n",
            "Requirement already satisfied: setuptools in /usr/local/lib/python3.10/dist-packages (from rasterio) (67.7.2)\n",
            "Requirement already satisfied: pyparsing>=2.1.6 in /usr/local/lib/python3.10/dist-packages (from snuggs>=1.4.1->rasterio) (3.1.1)\n",
            "\u001b[33mWARNING: Running pip as the 'root' user can result in broken permissions and conflicting behaviour with the system package manager. It is recommended to use a virtual environment instead: https://pip.pypa.io/warnings/venv\u001b[0m\u001b[33m\n",
            "\u001b[0mRequirement already satisfied: geopandas in /usr/local/lib/python3.10/dist-packages (0.13.2)\n",
            "Requirement already satisfied: fiona>=1.8.19 in /usr/local/lib/python3.10/dist-packages (from geopandas) (1.9.5)\n",
            "Requirement already satisfied: packaging in /usr/local/lib/python3.10/dist-packages (from geopandas) (23.2)\n",
            "Requirement already satisfied: pandas>=1.1.0 in /usr/local/lib/python3.10/dist-packages (from geopandas) (1.5.3)\n",
            "Requirement already satisfied: pyproj>=3.0.1 in /usr/local/lib/python3.10/dist-packages (from geopandas) (3.6.1)\n",
            "Requirement already satisfied: shapely>=1.7.1 in /usr/local/lib/python3.10/dist-packages (from geopandas) (2.0.2)\n",
            "Requirement already satisfied: attrs>=19.2.0 in /usr/local/lib/python3.10/dist-packages (from fiona>=1.8.19->geopandas) (23.1.0)\n",
            "Requirement already satisfied: certifi in /usr/local/lib/python3.10/dist-packages (from fiona>=1.8.19->geopandas) (2023.7.22)\n",
            "Requirement already satisfied: click~=8.0 in /usr/local/lib/python3.10/dist-packages (from fiona>=1.8.19->geopandas) (8.1.7)\n",
            "Requirement already satisfied: click-plugins>=1.0 in /usr/local/lib/python3.10/dist-packages (from fiona>=1.8.19->geopandas) (1.1.1)\n",
            "Requirement already satisfied: cligj>=0.5 in /usr/local/lib/python3.10/dist-packages (from fiona>=1.8.19->geopandas) (0.7.2)\n",
            "Requirement already satisfied: six in /usr/local/lib/python3.10/dist-packages (from fiona>=1.8.19->geopandas) (1.16.0)\n",
            "Requirement already satisfied: setuptools in /usr/local/lib/python3.10/dist-packages (from fiona>=1.8.19->geopandas) (67.7.2)\n",
            "Requirement already satisfied: python-dateutil>=2.8.1 in /usr/local/lib/python3.10/dist-packages (from pandas>=1.1.0->geopandas) (2.8.2)\n",
            "Requirement already satisfied: pytz>=2020.1 in /usr/local/lib/python3.10/dist-packages (from pandas>=1.1.0->geopandas) (2023.3.post1)\n",
            "Requirement already satisfied: numpy>=1.21.0 in /usr/local/lib/python3.10/dist-packages (from pandas>=1.1.0->geopandas) (1.23.5)\n",
            "\u001b[33mWARNING: Running pip as the 'root' user can result in broken permissions and conflicting behaviour with the system package manager. It is recommended to use a virtual environment instead: https://pip.pypa.io/warnings/venv\u001b[0m\u001b[33m\n",
            "\u001b[0mRequirement already satisfied: geojson in /usr/local/lib/python3.10/dist-packages (3.1.0)\n",
            "\u001b[33mWARNING: Running pip as the 'root' user can result in broken permissions and conflicting behaviour with the system package manager. It is recommended to use a virtual environment instead: https://pip.pypa.io/warnings/venv\u001b[0m\u001b[33m\n",
            "\u001b[0mRequirement already satisfied: shapely in /usr/local/lib/python3.10/dist-packages (2.0.2)\n",
            "Requirement already satisfied: numpy>=1.14 in /usr/local/lib/python3.10/dist-packages (from shapely) (1.23.5)\n",
            "\u001b[33mWARNING: Running pip as the 'root' user can result in broken permissions and conflicting behaviour with the system package manager. It is recommended to use a virtual environment instead: https://pip.pypa.io/warnings/venv\u001b[0m\u001b[33m\n",
            "\u001b[0m"
          ]
        }
      ]
    },
    {
      "cell_type": "code",
      "source": [
        "!mkdir foss4g"
      ],
      "metadata": {
        "id": "6m0Ykz7X4sV6"
      },
      "execution_count": 14,
      "outputs": []
    },
    {
      "cell_type": "code",
      "source": [
        "ls"
      ],
      "metadata": {
        "colab": {
          "base_uri": "https://localhost:8080/"
        },
        "id": "NHdybvnMvoFa",
        "outputId": "e325001c-fa54-4e16-e58e-dd04bceade72"
      },
      "execution_count": 26,
      "outputs": [
        {
          "output_type": "stream",
          "name": "stdout",
          "text": [
            "coverage.json  ndvi.tif\n"
          ]
        }
      ]
    },
    {
      "cell_type": "code",
      "source": [
        "# put the parameter in your request\n",
        "from fastapi import FastAPI, Query\n",
        "import geojson\n",
        "import shapely.wkt\n",
        "import json\n",
        "import geopandas as gpd\n",
        "import rasterio\n",
        "from rasterio.mask import mask\n",
        "import numpy as np\n",
        "from rioxarray import open_rasterio\n",
        "import ast\n",
        "import os\n",
        "import json\n",
        "from osgeo import gdal\n",
        "\n",
        "app = FastAPI()\n",
        "@app.get('/area')\n",
        "async def root(coords: str = Query(None, description=\"A test parameter\")):\n",
        "\n",
        "  wkt_data = shapely.wkt.loads(coords)\n",
        "  wkt_data2 = geojson.Feature(geometry=wkt_data, properties={})\n",
        "\n",
        "  dump_json = json.dumps(wkt_data2)\n",
        "  gdf = gpd.read_file(dump_json)\n",
        "\n",
        "  # Open the raster file to be clipped\n",
        "  raster_file = 'ndvi.tif'\n",
        "  src = rasterio.open(raster_file)\n",
        "  print(src)\n",
        "\n",
        "  # Clip the raster using the GeoJSON geometry\n",
        "  clipped_data, clipped_transform = mask(src, gdf.geometry, crop=True)\n",
        "\n",
        "  clipped_meta = src.meta\n",
        "  clipped_meta.update({\n",
        "      'height': clipped_data.shape[1],\n",
        "      'width': clipped_data.shape[2],\n",
        "      'transform': clipped_transform\n",
        "  })\n",
        "\n",
        "  # Define the output file name\n",
        "  output_file = 'clipped_raster.tif'\n",
        "\n",
        "  # Create a new raster file with the clipped data and updated metadata\n",
        "  with rasterio.open(output_file, 'w', **clipped_meta) as dst:\n",
        "      dst.write(clipped_data)\n",
        "\n",
        "  print(f\"Clipped raster saved to {output_file}\")\n",
        "\n",
        "\n",
        "  # Open the clipped raster file\n",
        "  output_file = 'clipped_raster.tif'\n",
        "  with rasterio.open(output_file) as ds_nir_org:\n",
        "      # Read the pixel values\n",
        "    data = ds_nir_org.read(1)\n",
        "\n",
        "    # Specify the background value (replace 0 with your background value)\n",
        "    background_value = 0.0\n",
        "\n",
        "    # Mask the background values\n",
        "    masked_data = np.ma.masked_equal(data, background_value)\n",
        "\n",
        "    # Convert the masked data to a list\n",
        "    text = masked_data.tolist()\n",
        "\n",
        "    text2 = str(text).replace('[', '')\n",
        "    text3 = str(text2).replace(']', '')\n",
        "    text4 = str(text3).replace('Nan', str(None))\n",
        "\n",
        "\n",
        "    arr = ast.literal_eval(text4)\n",
        "\n",
        "    my_list = list(arr)\n",
        "\n",
        "\n",
        "    dateImage = ['2010-01-01T00:12:20Z']\n",
        "    crt = len(dateImage)\n",
        "\n",
        "    # Opening JSON file\n",
        "    f = open('coverage.json')\n",
        "\n",
        "    # see detail into file coverage.json\n",
        "\n",
        "    covJSON = json.load(f)\n",
        "\n",
        "    covJSON['ranges']['data']['values'] = my_list\n",
        "\n",
        "    get_file = output_file\n",
        "    dataset = gdal.Open(get_file)\n",
        "    cols = dataset.RasterXSize\n",
        "    rows = dataset.RasterYSize\n",
        "\n",
        "\n",
        "    def GetExtent(ds):\n",
        "        xmin, xpixel, _, ymax, _, ypixel = ds.GetGeoTransform()\n",
        "        width, height = ds.RasterXSize, ds.RasterYSize\n",
        "        xmax = xmin + width * xpixel\n",
        "        ymin = ymax + height * ypixel\n",
        "\n",
        "        return [xmin, ymin, xmax, ymax]\n",
        "    ds = dataset\n",
        "    extent = GetExtent(ds)\n",
        "\n",
        "    axes = {\n",
        "        \"x\": {\n",
        "            \"start\": extent[0],\n",
        "            \"stop\": extent[2],\n",
        "            \"num\": cols\n",
        "        },\n",
        "        \"y\": {\n",
        "            \"start\": extent[3],\n",
        "            \"stop\": extent[1],\n",
        "            \"num\": rows\n",
        "        },\n",
        "        \"t\": {\"values\": dateImage}\n",
        "    }\n",
        "\n",
        "    covJSON['domain']['axes'] = axes\n",
        "\n",
        "    shape = [crt, rows, cols]\n",
        "\n",
        "    covJSON['ranges']['data']['shape'] = shape\n",
        "\n",
        "    msgRetren = covJSON\n",
        "\n",
        "\n",
        "    return msgRetren"
      ],
      "metadata": {
        "id": "I8pwyPqvoGxe"
      },
      "execution_count": 29,
      "outputs": []
    },
    {
      "cell_type": "code",
      "source": [
        "import nest_asyncio\n",
        "from pyngrok import ngrok\n",
        "import uvicorn\n",
        "\n",
        "ngrok_tunnel = ngrok.connect(8000)\n",
        "print('Public URL:', ngrok_tunnel.public_url)\n",
        "nest_asyncio.apply()\n",
        "uvicorn.run(app, port=8000)"
      ],
      "metadata": {
        "colab": {
          "base_uri": "https://localhost:8080/"
        },
        "id": "sMBmQK2XoHR5",
        "outputId": "fe673b1b-04ce-496c-fb05-3b1760e7ae28"
      },
      "execution_count": null,
      "outputs": [
        {
          "output_type": "stream",
          "name": "stderr",
          "text": [
            "WARNING:pyngrok.process.ngrok:t=2023-11-28T07:50:52+0000 lvl=warn msg=\"ngrok config file found at legacy location, move to XDG location\" xdg_path=/root/.config/ngrok/ngrok.yml legacy_path=/root/.ngrok2/ngrok.yml\n"
          ]
        },
        {
          "output_type": "stream",
          "name": "stdout",
          "text": [
            "Public URL: https://43be-35-245-5-82.ngrok.io\n"
          ]
        },
        {
          "output_type": "stream",
          "name": "stderr",
          "text": [
            "INFO:     Started server process [201]\n",
            "INFO:     Waiting for application startup.\n",
            "INFO:     Application startup complete.\n",
            "INFO:     Uvicorn running on http://127.0.0.1:8000 (Press CTRL+C to quit)\n"
          ]
        },
        {
          "output_type": "stream",
          "name": "stdout",
          "text": [
            "<open DatasetReader name='ndvi.tif' mode='r'>\n",
            "Clipped raster saved to clipped_raster.tif\n",
            "INFO:     175.192.226.112:0 - \"GET /area?coords=POLYGON%20((100.40375586163655%2014.853583642788516,%20100.40492627187803%2014.851100089349307,%20100.40795221055109%2014.852584512094582,%20100.40655342757957%2014.855039518942535,%20100.40375586163655%2014.853583642788516)) HTTP/1.1\" 200 OK\n",
            "INFO:     175.192.226.112:0 - \"GET /favicon.ico HTTP/1.1\" 404 Not Found\n"
          ]
        }
      ]
    },
    {
      "cell_type": "markdown",
      "source": [
        "url for test ==> {Public URL}/_area?coords=POLYGON%20((100.40375586163655%2014.853583642788516,%20100.40492627187803%2014.851100089349307,%20100.40795221055109%2014.852584512094582,%20100.40655342757957%2014.855039518942535,%20100.40375586163655%2014.853583642788516))"
      ],
      "metadata": {
        "id": "uqwTUBs0576Q"
      }
    },
    {
      "cell_type": "markdown",
      "source": [
        "area wkt for test ==>\n",
        "\n",
        "wkt_1 = \"POLYGON ((100.40375586163655 14.853583642788516, 100.40492627187803 14.851100089349307, 100.40795221055109 14.852584512094582, 100.40655342757957 14.855039518942535, 100.40375586163655 14.853583642788516))\"\n",
        "\n",
        "wkt_2 = \"POLYGON ((100.41271949129072 14.85555335758513, 100.4110066958154 14.85398329506609, 100.41357588902837 14.851271368896839, 100.41506031177364 14.852670151868347, 100.41271949129072 14.85555335758513))\""
      ],
      "metadata": {
        "id": "cxOojzRc6bW9"
      }
    }
  ]
}